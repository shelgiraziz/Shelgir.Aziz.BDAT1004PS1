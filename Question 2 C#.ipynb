{
 "cells": [
  {
   "cell_type": "code",
   "execution_count": 1,
   "id": "a890ceea",
   "metadata": {},
   "outputs": [
    {
     "data": {
      "text/plain": [
       "34"
      ]
     },
     "execution_count": 1,
     "metadata": {},
     "output_type": "execute_result"
    }
   ],
   "source": [
    "//Question 2 C#\n",
    "//Write (and evaluate) C# expressions that answer these questions: \n",
    "\n",
    "//a. How many letters are there in 'Supercalifragilisticexpialidocious'?\n",
    "string line = \"Supercalifragilisticexpialidocious\";\n",
    "line.Length\n",
    "\n",
    "// there are 34 letters"
   ]
  },
  {
   "cell_type": "code",
   "execution_count": 2,
   "id": "e01604a4",
   "metadata": {},
   "outputs": [
    {
     "data": {
      "text/plain": [
       "True"
      ]
     },
     "execution_count": 2,
     "metadata": {},
     "output_type": "execute_result"
    }
   ],
   "source": [
    "//b. Does 'Supercalifragilisticexpialidocious' contain 'ice' as a substring?\n",
    "string con = \"ice\";\n",
    "line.Contains(con)\n",
    "\n",
    "//the substring 'ice' is in the string\n",
    "\n",
    "// reference: https://www.javatpoint.com/csharp-string-contains#:~:text=The%20C%23%20Contains()%20method,it%20returns%20true%20otherwise%20false."
   ]
  },
  {
   "cell_type": "code",
   "execution_count": 3,
   "id": "e3aac584",
   "metadata": {},
   "outputs": [
    {
     "data": {
      "text/plain": [
       "Supercalifragilisticexpialidocious Bababadalgharaghtakamminarronnkonn"
      ]
     },
     "execution_count": 3,
     "metadata": {},
     "output_type": "execute_result"
    }
   ],
   "source": [
    "//c. Which of the following words is the longest: \n",
    "    // Supercalifragilisticexpialidocious\n",
    "    // Honorificabilitudinitatibus\n",
    "    // Bababadalgharaghtakamminarronnkonn\n",
    "\n",
    "string[] words = {\"Supercalifragilisticexpialidocious\",\n",
    "                    \"Honorificabilitudinitatibus\",\n",
    "                    \"Bababadalgharaghtakamminarronnkonn\"};\n",
    "    \n",
    "string longestWord = \"\";\n",
    "for (int i = 0; i < words.Length; i++){\n",
    "    if(words[i].Length > longestWord.Length){\n",
    "    longestWord = words[i];\n",
    "    } else if (words[i].Length == longestWord.Length){\n",
    "    longestWord = longestWord + \" \" + words[i];\n",
    "    }\n",
    "}\n",
    "longestWord\n",
    "\n",
    "// the code written checks for the items in the array, if the length of the item is larger than longestWord variable\n",
    "// which we initially set to an empty string then the variable takes that value and in the next iteration\n",
    "// longestWord will be compared to the next word in the array, if by any chance length of two string are equal\n",
    "// longestWord will have both of the separated by a space indicating that those two words are equal in length\n",
    "\n",
    "// for this question the answer is the first and last word in the array are the longest equally"
   ]
  },
  {
   "cell_type": "code",
   "execution_count": 4,
   "id": "843dc7f2",
   "metadata": {},
   "outputs": [
    {
     "name": "stdout",
     "output_type": "stream",
     "text": [
      "The first name that comes is Bartok, and the last name is Buxtehude\r\n"
     ]
    }
   ],
   "source": [
    "//d. Which composer comes first in the dictionary: \n",
    "    //'Berlioz', 'Borodin', 'Brian', 'Bartok', 'Bellini', \n",
    "    //'Buxtehude', 'Bernstein'. \n",
    "    // Which one comes last?\n",
    "    \n",
    "List<string> names = new List<string>{\"Berlioz\",\"Borodin\",\"Brian\",\"Bartok\",\"Bellini\",\"Buxtehude\",\"Bernstein\"};\n",
    "\n",
    "names.Sort((x, y) => string.Compare(x, y));\n",
    "\n",
    "Console.WriteLine($\"The first name that comes is {names[0]}, and the last name is {names[names.Count-1]}\");\n",
    "\n",
    "\n",
    "//I first created a list of string and added all the names initially, than sorted them by the built-in Sort() in c#\n",
    "// and then the first name becomes the one that is in the first index and the last name is the last one in the list\n",
    "// we can get the number of names in the list by the built-in Count function in c#\n",
    "\n",
    "// The first name that comes is Bartok, and the last name is Buxtehude\n",
    "\n",
    "// Reference: https://stackoverflow.com/questions/38604702/how-to-sort-a-list-of-lists-of-strings"
   ]
  },
  {
   "cell_type": "code",
   "execution_count": null,
   "id": "854a205d",
   "metadata": {},
   "outputs": [],
   "source": []
  }
 ],
 "metadata": {
  "kernelspec": {
   "display_name": ".NET (C#)",
   "language": "C#",
   "name": ".net-csharp"
  },
  "language_info": {
   "file_extension": ".cs",
   "mimetype": "text/x-csharp",
   "name": "C#",
   "pygments_lexer": "csharp",
   "version": "8.0"
  }
 },
 "nbformat": 4,
 "nbformat_minor": 5
}
