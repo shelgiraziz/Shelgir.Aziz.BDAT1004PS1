{
 "cells": [
  {
   "cell_type": "code",
   "execution_count": 33,
   "id": "6cca71ab",
   "metadata": {},
   "outputs": [
    {
     "data": {
      "text/plain": [
       "1.241401"
      ]
     },
     "execution_count": 33,
     "metadata": {},
     "output_type": "execute_result"
    }
   ],
   "source": [
    "# Question 8\n",
    "# Write a function curconv() that takes as input and converts it to dollars\n",
    "\n",
    "def curconv(cur, amount):\n",
    "    currencies = [line.split() for line in open('currencies.txt')]\n",
    "    for row in currencies:\n",
    "        if cur == row[0]:\n",
    "            return amount*float(row[1])\n",
    "\n",
    "curconv('JPY',100)\n",
    "\n",
    "# Reference: https://stackoverflow.com/questions/47297741/how-do-i-read-a-text-file-as-a-list-of-lists-in-python#:~:text=lines%20%3D%20%5Bline.split()%20for%20line%20in%20open(%27yourtextfile.txt%27)%5D"
   ]
  },
  {
   "cell_type": "code",
   "execution_count": null,
   "id": "8e52b497",
   "metadata": {},
   "outputs": [],
   "source": []
  }
 ],
 "metadata": {
  "kernelspec": {
   "display_name": "Python 3 (ipykernel)",
   "language": "python",
   "name": "python3"
  },
  "language_info": {
   "codemirror_mode": {
    "name": "ipython",
    "version": 3
   },
   "file_extension": ".py",
   "mimetype": "text/x-python",
   "name": "python",
   "nbconvert_exporter": "python",
   "pygments_lexer": "ipython3",
   "version": "3.8.13"
  }
 },
 "nbformat": 4,
 "nbformat_minor": 5
}
