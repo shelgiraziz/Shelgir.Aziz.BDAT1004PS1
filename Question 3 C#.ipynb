{
 "cells": [
  {
   "cell_type": "code",
   "execution_count": 9,
   "id": "49c3f017",
   "metadata": {},
   "outputs": [
    {
     "name": "stdout",
     "output_type": "stream",
     "text": [
      "The area of the traingle is 48\r\n"
     ]
    }
   ],
   "source": [
    "// Implement function triangleArea\n",
    "\n",
    "public void triangleArea(int a, int b, int c){\n",
    "    double semiperimeter = (a + b + c) / 2;\n",
    "    double area = Math.Sqrt(semiperimeter * (semiperimeter - a) * (semiperimeter - b) * (semiperimeter - b));\n",
    "    Console.WriteLine($\"The area of the traingle is {area}\");\n",
    "}\n",
    "\n",
    "int s1 = 12;\n",
    "int s2 = 10;\n",
    "int s3 = 10;\n",
    "\n",
    "triangleArea(s1,s2,s3);\n",
    "\n",
    "// Reference: https://dotnettutorials.net/lesson/area-of-triangle-csharp/"
   ]
  },
  {
   "cell_type": "code",
   "execution_count": null,
   "id": "6c9c739b",
   "metadata": {},
   "outputs": [],
   "source": []
  }
 ],
 "metadata": {
  "kernelspec": {
   "display_name": ".NET (C#)",
   "language": "C#",
   "name": ".net-csharp"
  },
  "language_info": {
   "file_extension": ".cs",
   "mimetype": "text/x-csharp",
   "name": "C#",
   "pygments_lexer": "csharp",
   "version": "8.0"
  }
 },
 "nbformat": 4,
 "nbformat_minor": 5
}
