{
 "cells": [
  {
   "cell_type": "code",
   "execution_count": 11,
   "id": "26a62ee6",
   "metadata": {},
   "outputs": [
    {
     "name": "stdout",
     "output_type": "stream",
     "text": [
      "[1, 1, 1, 3, 5, 1, 1, 2, 1, 0, 1, 0, 1, 2, 4, 0, 1, 2, 0, 3, 1, 0, 1, 1, 0, 0]\n"
     ]
    }
   ],
   "source": [
    "# Question 10\n",
    "# Write a function called frequencies() that takes a string as its only parameter,\n",
    "# and returns a list of integers, \n",
    "# showing the number of times each character appears in the text. \n",
    "# Your function may ignore any characters that are not in letters. \n",
    "\n",
    "def frequencies(inp):\n",
    "    alphabet = ['a', 'b', 'c', 'd', 'e', 'f', 'g', 'h', 'i', 'j', 'k', 'l', 'm', 'n', 'o', 'p', 'q', 'r', 's', 't', 'u', 'v', 'w', 'x', 'y', 'z']\n",
    "    al_freq = [0]*26\n",
    "    for i in inp.lower():\n",
    "        for n in alphabet:\n",
    "            if i == n:\n",
    "                al_freq[alphabet.index(n)] += 1\n",
    "            \n",
    "    print(al_freq)\n",
    "    \n",
    "frequencies('The  quick  red  fox  got  bored  and  went  home.')"
   ]
  },
  {
   "cell_type": "code",
   "execution_count": null,
   "id": "c58a5495",
   "metadata": {},
   "outputs": [],
   "source": []
  }
 ],
 "metadata": {
  "kernelspec": {
   "display_name": "Python 3 (ipykernel)",
   "language": "python",
   "name": "python3"
  },
  "language_info": {
   "codemirror_mode": {
    "name": "ipython",
    "version": 3
   },
   "file_extension": ".py",
   "mimetype": "text/x-python",
   "name": "python",
   "nbconvert_exporter": "python",
   "pygments_lexer": "ipython3",
   "version": "3.8.13"
  }
 },
 "nbformat": 4,
 "nbformat_minor": 5
}
