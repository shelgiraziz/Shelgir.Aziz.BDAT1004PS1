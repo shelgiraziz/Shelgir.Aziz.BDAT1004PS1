{
 "cells": [
  {
   "cell_type": "code",
   "execution_count": 8,
   "id": "5471a8ab",
   "metadata": {},
   "outputs": [
    {
     "name": "stdout",
     "output_type": "stream",
     "text": [
      "{'AB': 13, 'B': 1, 'O': 15, 'A': 15}\n"
     ]
    }
   ],
   "source": [
    "# Question 7\n",
    "# Write a function bldcount() that reads the file with name name and reports (i.e., prints) how many patients there are in each bloodtype\n",
    "\n",
    "def bldcount(fileName):\n",
    "    with open(fileName) as f:\n",
    "        contents = f.read()\n",
    "        each = contents.split()\n",
    "\n",
    "    bloodtype_freq = {\"AB\":0,\"B\":0,\"O\":0,\"A\":0}\n",
    "\n",
    "    for i in each:\n",
    "        if i in bloodtype_freq:\n",
    "            bloodtype_freq[i] += 1\n",
    "\n",
    "    print(bloodtype_freq)\n",
    "    \n",
    "bldcount('bloodtype1.txt')\n",
    "\n",
    "\n",
    "# Reference: https://www.pythontutorial.net/python-basics/python-read-text-file/#:~:text=with%20open(%27the%2Dzen%2Dof%2Dpython.txt%27)%20as%20f%3A%0A%20%20%20%20contents%20%3D%20f.read()%0A%20%20%20%20print(contents)"
   ]
  },
  {
   "cell_type": "code",
   "execution_count": null,
   "id": "7efcb75f",
   "metadata": {},
   "outputs": [],
   "source": []
  }
 ],
 "metadata": {
  "kernelspec": {
   "display_name": "Python 3 (ipykernel)",
   "language": "python",
   "name": "python3"
  },
  "language_info": {
   "codemirror_mode": {
    "name": "ipython",
    "version": 3
   },
   "file_extension": ".py",
   "mimetype": "text/x-python",
   "name": "python",
   "nbconvert_exporter": "python",
   "pygments_lexer": "ipython3",
   "version": "3.8.13"
  }
 },
 "nbformat": 4,
 "nbformat_minor": 5
}
