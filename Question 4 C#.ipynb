{
 "cells": [
  {
   "cell_type": "code",
   "execution_count": 56,
   "id": "befc9611",
   "metadata": {},
   "outputs": [
    {
     "data": {
      "text/html": [
       "<table><thead><tr><th><i>index</i></th><th>value</th></tr></thead><tbody><tr><td>0</td><td>25</td></tr><tr><td>1</td><td>47</td></tr><tr><td>2</td><td>42</td></tr><tr><td>3</td><td>56</td></tr><tr><td>4</td><td>32</td></tr></tbody></table>"
      ]
     },
     "execution_count": 56,
     "metadata": {},
     "output_type": "execute_result"
    }
   ],
   "source": [
    "// Write a program in C# Sharp to separate odd and even integers in separate arrays.\n",
    "\n",
    "int[] numbers = {25,47,42,56,32};\n",
    "int[] even = new int[]{};\n",
    "int[] odd = new int[]{};\n",
    "numbers"
   ]
  },
  {
   "cell_type": "code",
   "execution_count": 57,
   "id": "9518deb9",
   "metadata": {},
   "outputs": [],
   "source": [
    "for(int i = 0; i < numbers.Length; i++){\n",
    "    double remainder = numbers[i] % 2;\n",
    "    if(remainder == 1)\n",
    "    {\n",
    "        var oddList = odd.ToList();\n",
    "\n",
    "        oddList.Add(numbers[i]);\n",
    "           \n",
    "        odd = oddList.ToArray();\n",
    "    }\n",
    "    else if(remainder == 0)\n",
    "    {\n",
    "        var evenList = even.ToList();\n",
    "\n",
    "        evenList.Add(numbers[i]);\n",
    "           \n",
    "        even = evenList.ToArray();\n",
    "        \n",
    "    }\n",
    "}"
   ]
  },
  {
   "cell_type": "code",
   "execution_count": 60,
   "id": "3fa9e9bd",
   "metadata": {},
   "outputs": [
    {
     "data": {
      "text/html": [
       "<table><thead><tr><th><i>index</i></th><th>value</th></tr></thead><tbody><tr><td>0</td><td>25</td></tr><tr><td>1</td><td>47</td></tr></tbody></table>"
      ]
     },
     "execution_count": 60,
     "metadata": {},
     "output_type": "execute_result"
    }
   ],
   "source": [
    "odd"
   ]
  },
  {
   "cell_type": "code",
   "execution_count": 59,
   "id": "05834116",
   "metadata": {},
   "outputs": [
    {
     "data": {
      "text/html": [
       "<table><thead><tr><th><i>index</i></th><th>value</th></tr></thead><tbody><tr><td>0</td><td>42</td></tr><tr><td>1</td><td>56</td></tr><tr><td>2</td><td>32</td></tr></tbody></table>"
      ]
     },
     "execution_count": 59,
     "metadata": {},
     "output_type": "execute_result"
    }
   ],
   "source": [
    "even"
   ]
  },
  {
   "cell_type": "code",
   "execution_count": null,
   "id": "4bbe477d",
   "metadata": {},
   "outputs": [],
   "source": [
    "// Reference: https://code-maze.com/add-values-to-csharp-array/#:~:text=LINQ%20Append()%20Method\n",
    "// Reference: https://codelikeadev.com/blog/add-append-item-to-array-csharp#:~:text=Add%20Element%20To%20Array%20By%20Converting%20Array%20To%20List%20And%20Using%20List.Add()%20Method%20C%23"
   ]
  }
 ],
 "metadata": {
  "kernelspec": {
   "display_name": ".NET (C#)",
   "language": "C#",
   "name": ".net-csharp"
  },
  "language_info": {
   "file_extension": ".cs",
   "mimetype": "text/x-csharp",
   "name": "C#",
   "pygments_lexer": "csharp",
   "version": "8.0"
  }
 },
 "nbformat": 4,
 "nbformat_minor": 5
}
