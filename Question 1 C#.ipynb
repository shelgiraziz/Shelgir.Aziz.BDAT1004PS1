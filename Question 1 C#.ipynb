{
 "cells": [
  {
   "cell_type": "code",
   "execution_count": null,
   "id": "d4cb8bf0",
   "metadata": {},
   "outputs": [],
   "source": [
    "// Question 1 C# \n",
    "// What data type is each of the following?\n",
    "\n",
    "\n",
    "\n",
    "5 //int\n",
    "    \n",
    "5.0 //double\n",
    "\n",
    "5 > 1 //bool\n",
    "\n",
    "'5' // string\n",
    "    \n",
    "5 * 2 //int\n",
    "    \n",
    "'5'  *  2 //int, multiplies the ASCII value of '5' by 2 which is 53*2 =106\n",
    "    \n",
    "'5'  +  '2' //int, multiplies the ASCII values of the two characters which translates to 50*53 = 2650\n",
    "    \n",
    "5 / 2 //int, none of the values are double/float thus the result is integer\n",
    "    \n",
    "5 % 2 //int\n",
    "\n",
    "{5,  2,  1} //int[], an array of integers\n",
    "\n",
    "5 == 3 //bool\n",
    "    \n",
    "Pi  (the  number) //string"
   ]
  }
 ],
 "metadata": {
  "kernelspec": {
   "display_name": ".NET (C#)",
   "language": "C#",
   "name": ".net-csharp"
  },
  "language_info": {
   "file_extension": ".cs",
   "mimetype": "text/x-csharp",
   "name": "C#",
   "pygments_lexer": "csharp",
   "version": "8.0"
  }
 },
 "nbformat": 4,
 "nbformat_minor": 5
}
