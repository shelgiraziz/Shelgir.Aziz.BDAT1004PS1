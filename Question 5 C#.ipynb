{
 "cells": [
  {
   "cell_type": "code",
   "execution_count": 2,
   "id": "cb9ceafe",
   "metadata": {},
   "outputs": [],
   "source": [
    "// Write a function inside(x,y,x1,y1,x2,y2)\n",
    "\n",
    "public bool inside(int x,int y,int x1,int y1,int x2,int y2){\n",
    "   if (x > x1 && x < x2 &&\n",
    "    y > y1 && y < y2)\n",
    "    return true;\n",
    " \n",
    "return false;\n",
    "}"
   ]
  },
  {
   "cell_type": "code",
   "execution_count": 9,
   "id": "d0b278ce",
   "metadata": {},
   "outputs": [
    {
     "data": {
      "text/plain": [
       "True"
      ]
     },
     "execution_count": 9,
     "metadata": {},
     "output_type": "execute_result"
    }
   ],
   "source": [
    "int x = 1;\n",
    "int y = 1;\n",
    "\n",
    "int x1 = 0;\n",
    "int y1 = 0;\n",
    "int x2 = 2;\n",
    "int y2 = 3;\n",
    "\n",
    "\n",
    "inside(x, y,x1, y1, x2, y2)\n",
    "\n",
    "//The condition yields true only when x is greater than x1 AND less than x2, and same goes for y"
   ]
  },
  {
   "cell_type": "code",
   "execution_count": null,
   "id": "e13c6dcc",
   "metadata": {},
   "outputs": [],
   "source": [
    "// Reference: https://www.geeksforgeeks.org/check-if-a-point-lies-on-or-inside-a-rectangle-set-2/"
   ]
  }
 ],
 "metadata": {
  "kernelspec": {
   "display_name": ".NET (C#)",
   "language": "C#",
   "name": ".net-csharp"
  },
  "language_info": {
   "file_extension": ".cs",
   "mimetype": "text/x-csharp",
   "name": "C#",
   "pygments_lexer": "csharp",
   "version": "8.0"
  }
 },
 "nbformat": 4,
 "nbformat_minor": 5
}
