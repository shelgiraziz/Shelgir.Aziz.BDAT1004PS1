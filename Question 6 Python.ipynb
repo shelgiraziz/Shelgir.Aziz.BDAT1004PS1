{
 "cells": [
  {
   "cell_type": "code",
   "execution_count": 71,
   "id": "41a3b6dc",
   "metadata": {},
   "outputs": [
    {
     "data": {
      "text/plain": [
       "'otherway'"
      ]
     },
     "execution_count": 71,
     "metadata": {},
     "output_type": "execute_result"
    }
   ],
   "source": [
    "# Question 6\n",
    "# Write a function pig() that takes a word (i.e., a string) as input and returns its pig- Latin form.\n",
    "# Your function should still work if the input word contains upper case characters.\n",
    "# Your output should always be lower case however.\n",
    "\n",
    "def pig(text):\n",
    "  words = text.split()\n",
    "  pigged_text = []\n",
    "\n",
    "  for word in words:\n",
    "        if word[0].lower() in ['a','e','i','o','u']:\n",
    "            word = word[0:].lower() + 'way'\n",
    "            pigged_text.append(word)\n",
    "        else:\n",
    "            word = word[1:].lower() + word[0].lower() + 'ay'\n",
    "            pigged_text.append(word)\n",
    "    \n",
    "\n",
    "  return ' '.join(pigged_text)\n",
    "\n",
    "pig('other')\n",
    "\n",
    "\n",
    "# Reference:https://stackoverflow.com/questions/60982439/pig-latin-string-conversion-in-python#:~:text=5-,def%20pig_latin,-(text)%3A%0A%20%20words"
   ]
  },
  {
   "cell_type": "code",
   "execution_count": null,
   "id": "e4dd7930",
   "metadata": {},
   "outputs": [],
   "source": []
  }
 ],
 "metadata": {
  "kernelspec": {
   "display_name": "Python 3 (ipykernel)",
   "language": "python",
   "name": "python3"
  },
  "language_info": {
   "codemirror_mode": {
    "name": "ipython",
    "version": 3
   },
   "file_extension": ".py",
   "mimetype": "text/x-python",
   "name": "python",
   "nbconvert_exporter": "python",
   "pygments_lexer": "ipython3",
   "version": "3.8.13"
  }
 },
 "nbformat": 4,
 "nbformat_minor": 5
}
