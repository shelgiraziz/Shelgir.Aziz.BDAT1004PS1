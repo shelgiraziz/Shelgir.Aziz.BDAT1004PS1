{
 "cells": [
  {
   "cell_type": "code",
   "execution_count": 9,
   "id": "71d6182a",
   "metadata": {},
   "outputs": [
    {
     "ename": "TypeError",
     "evalue": "unsupported operand type(s) for +: 'int' and 'str'",
     "output_type": "error",
     "traceback": [
      "\u001b[1;31m---------------------------------------------------------------------------\u001b[0m",
      "\u001b[1;31mTypeError\u001b[0m                                 Traceback (most recent call last)",
      "Input \u001b[1;32mIn [9]\u001b[0m, in \u001b[0;36m<cell line: 3>\u001b[1;34m()\u001b[0m\n\u001b[0;32m      1\u001b[0m \u001b[38;5;66;03m# Question 9\u001b[39;00m\n\u001b[1;32m----> 3\u001b[0m \u001b[38;5;28mprint\u001b[39m( \u001b[38;5;241;43m6\u001b[39;49m\u001b[43m \u001b[49m\u001b[38;5;241;43m+\u001b[39;49m\u001b[38;5;124;43m'\u001b[39;49m\u001b[38;5;124;43ma\u001b[39;49m\u001b[38;5;124;43m'\u001b[39;49m) \u001b[38;5;66;03m#TypeError: unsupported operand type(s) for +: 'int' and 'str'\u001b[39;00m\n\u001b[0;32m      4\u001b[0m \u001b[38;5;66;03m# because they are two different datatypes\u001b[39;00m\n\u001b[0;32m      6\u001b[0m \u001b[38;5;28mlist\u001b[39m \u001b[38;5;241m=\u001b[39m [\u001b[38;5;241m1\u001b[39m]\u001b[38;5;241m*\u001b[39m\u001b[38;5;241m10\u001b[39m\n",
      "\u001b[1;31mTypeError\u001b[0m: unsupported operand type(s) for +: 'int' and 'str'"
     ]
    }
   ],
   "source": [
    "# Question 9\n",
    "\n",
    "print( 6 +'a') #TypeError: unsupported operand type(s) for +: 'int' and 'str'\n",
    "# because they are two different datatypes\n",
    "\n",
    "list = [1]*10\n",
    "list[12] #IndexError: list index out of range\n",
    "# because we dont have an item for that index\n",
    "\n",
    "import math\n",
    "math.sqrt(-1) #ValueError: math domain error\n",
    "# the function was not expecting negative values\n",
    "\n",
    "print(x) #ValueError: math domain error\n",
    "# the variable was not declared hence the exception of NameError is raised\n",
    "\n",
    "f = open(\"x.file\") #FileNotFoundError: [Errno 2] No such file or directory: 'x.file'\n",
    "# because there is no file by that name"
   ]
  },
  {
   "cell_type": "code",
   "execution_count": null,
   "id": "78c12785",
   "metadata": {},
   "outputs": [],
   "source": []
  }
 ],
 "metadata": {
  "kernelspec": {
   "display_name": "Python 3 (ipykernel)",
   "language": "python",
   "name": "python3"
  },
  "language_info": {
   "codemirror_mode": {
    "name": "ipython",
    "version": 3
   },
   "file_extension": ".py",
   "mimetype": "text/x-python",
   "name": "python",
   "nbconvert_exporter": "python",
   "pygments_lexer": "ipython3",
   "version": "3.8.13"
  }
 },
 "nbformat": 4,
 "nbformat_minor": 5
}
